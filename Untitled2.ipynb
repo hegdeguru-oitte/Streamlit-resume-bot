{
 "cells": [
  {
   "cell_type": "raw",
   "id": "7ab77d27-12ad-4445-8635-ed61d17ad7f7",
   "metadata": {},
   "source": [
    "Streamlit Demo Application"
   ]
  },
  {
   "cell_type": "code",
   "execution_count": null,
   "id": "029f4b69-4f6b-475b-b908-e4ec9e0daa3a",
   "metadata": {},
   "outputs": [],
   "source": [
    "pip install streamlit"
   ]
  },
  {
   "cell_type": "code",
   "execution_count": null,
   "id": "2bfb68d7-6851-4252-8634-24b14b34870a",
   "metadata": {},
   "outputs": [],
   "source": [
    "!pip install streamlit"
   ]
  }
 ],
 "metadata": {
  "kernelspec": {
   "display_name": "Python 3 (ipykernel)",
   "language": "python",
   "name": "python3"
  },
  "language_info": {
   "codemirror_mode": {
    "name": "ipython",
    "version": 3
   },
   "file_extension": ".py",
   "mimetype": "text/x-python",
   "name": "python",
   "nbconvert_exporter": "python",
   "pygments_lexer": "ipython3",
   "version": "3.10.9"
  }
 },
 "nbformat": 4,
 "nbformat_minor": 5
}
