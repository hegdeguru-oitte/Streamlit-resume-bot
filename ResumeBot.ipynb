{
 "cells": [
  {
   "cell_type": "code",
   "execution_count": null,
   "id": "8696e51d-db0b-4c74-aa18-82354e551ae6",
   "metadata": {},
   "outputs": [],
   "source": [
    "import os\n",
    "import openai\n",
    "from dotenv import load_dotenv, find_dotenv\n",
    "_ = load_dotenv(find_dotenv()) # read local .env file\n",
    "\n",
    "openai.api_key  = os.getenv('OPENAI_API_KEY')"
   ]
  },
  {
   "cell_type": "code",
   "execution_count": null,
   "id": "1043168c-b992-46c9-abbb-5ef411ba892d",
   "metadata": {},
   "outputs": [],
   "source": [
    "def get_completion(prompt, model=\"gpt-3.5-turbo\"):\n",
    "    messages = [{\"role\": \"user\", \"content\": prompt}]\n",
    "    response = openai.ChatCompletion.create(\n",
    "        model=model,\n",
    "        messages=messages,\n",
    "        temperature=0, # this is the degree of randomness of the model's output\n",
    "    )\n",
    "    return response.choices[0].message[\"content\"]"
   ]
  },
  {
   "cell_type": "code",
   "execution_count": null,
   "id": "29e2a2b0-93b2-4035-8c65-e0cfc4e3106a",
   "metadata": {},
   "outputs": [],
   "source": [
    "resume1 = \"\"'RAKESH P SHANBHAG\\nDataAnalyst\\n@ rakeshshanbhag1234@gmail.com (cid:129) +917349431706 ( Bengaluru,India (cid:128) @rakesh_shanbhag\\nŁ RakeshShanbhag\\nWORK EXPERIENCE CAREER OBJECTIVE\\nConsulting - SAMA: Analytics and Cognitive “Seekingachallengingpositioninyour\\nDeloitteSharedServicesIndiaLLP reputedcompanywhereIcanlearn\\nx July2022–Present ( Bengaluru newskills,expandmyknowledge,and\\nleveragemylearnings”\\n• Beingapartofenhancementandnewdevelopmentteam,Ihave\\ndevelopedsalesandinventorydashboards/reportswithalive\\nEXTRA CURRICULAR\\nconnectiontoatabularmodelcubethatsourceddatafroman\\nSQLdatabase\\n• WorkedonSSAS(SQLServerAnalysisServices)tabularmodels ˘ MentoratSUSHIKSHA\\nTraineratKshamataCampsheldat\\nusingVisualStudio2019\\nWKC(WorldKonkaniCentre)through\\n• Responsibilitiesincludeddatamodeling,datatransformation, VKSSF\\ncreatingcomplexDAXexpressionstosupportkeyperformance\\nindicators(KPIs)andbusinessmetrics,andestablishingrelation- ˘ VolunteeratYouthForParivarthan\\nandMakkalaJeevodaya\\nshipsbetweendimensionsandfactswithinthetabularmodel\\nWithavisionofCleansocietyandfree\\neducationthroughMentorshippro-\\nINTERNSHIP\\ngramme\\nTrainee\\nSKILLS\\nDeloitteSharedServicesIndiaLLP\\nx Feb2022,5months ( Bengaluru PowerBI AzureAnalysisServices MYSQL\\n• GottrainedinSQL,SSMS,TableauandalsogotcertifiedinPython MicrosoftExcel Python(basic)\\nEDUCATION\\nTrainee\\nHindustanAeronauticsLimited\\nBE in Electronics and Communication\\nx Jan2019,1month ( Bengaluru\\nEngineering\\n• HandsonexperienceandlearningatElectronicsLRUlaband\\nBMSCollegeofEngineering,Bengaluru\\nFinalAssembly,HelicopterMRODivision\\nx Sept2018–Jun2022\\nCERTIFICATIONS CGPA:9.18\\n˘ PCAP-31-03CertifiedAssociateinPythonProgramming PU in Science Stream\\nChristJuniorCollege,Bengaluru\\n˘ MicrosoftPowerBIDesktopforBusinessIntelligenceby\\nUdemy x Jun2016–Apr2018\\nPercentage:97.5\\nLANGUAGES\\nSSLC in State Board\\nVijayaHighSchool,Bengaluru\\nEnglish Hindi Kannada Konkani\\nx Jun2013–Apr2016\\nPercentage:98.4'\"\""
   ]
  },
  {
   "cell_type": "code",
   "execution_count": null,
   "id": "9a7feec4-41ea-4474-ab33-eff8c2cf2dcb",
   "metadata": {},
   "outputs": [],
   "source": [
    "resume2 = \"\"\"Experience Summary\\nGuruprasad Hegde is an Analyst at Deloitte with nearly 2 years of experience in data analytics, specializing in the Telecom, Media, and\\nTechnology sectors. He has strong communication and interpersonal skills, is highly organized, and demonstrates a dedicated work\\nethic. Guruprasad excels in problem-solving and confidently handles ambiguity, consistently delivering effective solutions.\\nRelevant Work Experience\\nGuruprasad Hegde\\nAnalyst \\uf0a7 Worked with a large telecom team as part of the Group Revenue Assurance team, where I was responsible for identifying and\\nConsulting – Deloitte India\\nresolving revenue discrepancies between multiple business entities.\\n\\uf0a7 Conducted comprehensive billing validation and prepared detailed reports to ensure accurate revenue recognition.\\nEmail Id-gurhegde@deloitte.com\\n\\uf0a7 Designed and implemented new validation methods and scripts to accommodate evolving requirements and processes, significantly\\nMobile-+91 8971229085\\nimproving process accuracy and efficiency.\\nProfile\\n\\uf0a7 Extensively leveraged Oracle SQL across multiple databases to validate and identify revenue discrepancies between various\\nEducation: business entities, ensuring data integrity throughout the process.\\n\\uf0a7 Bachelor of Technology (B.Tech) in\\n\\uf0a7 Introduced Python to automate repetitive and monotonous tasks, significantly boosting productivity and efficiency.\\nElectronics & Communication –PES\\nUniversity \\uf0a7 Played a key role in the migration from one billing system to another, ensuring a smooth transition and continuity.\\n\\uf0a7 Collaborated with cross-functional teams to drive process improvements while also performing various ad-hoc activities at the\\nTools & Technology:\\n\\uf0a7 Python, Oracle SQL,Tableau, Excel, client's request, often under strict deadlines, to provide crucial insights.\\nFigma, Kore-Ai, Agile Foundations, UI-\\n\\uf0a7 As part of an internal project with a large telecom company, I collaborated on a rapid digital maturity assessment model. This\\nUX, Power BI, Power Point.\\ninitiative aimed to help the company's Internal Audit function realize its digital vision. I was involved in designing a comprehensive\\nCertifications:\\ndigital maturity toolkit for self-assessment, which evaluated the current state, ongoing initiatives, and future aspirations. This\\n\\uf0a7 Data Analysis with Pandas by Udemy.\\n\\uf0a7 15 days of Power BI -Complete model provided insights into existing capabilities and industry-leading practices, identified current state gaps, and prioritized\\nMicrosoft Power BI Bootcamp.\\ndigitization opportunities. The resulting recommendations helped the company develop a future roadmap for enhancing their digital\\n\\uf0a7 Deep Learning-IIT Roopar-NPTEL\\nCertification audit functions.\\n\\uf0a7 Agile Foundations -LinkedIn Learning\\n© 2020 Deloitte Touche Tohmatsu India LLP 1\"\"\""
   ]
  },
  {
   "cell_type": "code",
   "execution_count": null,
   "id": "c46bbc3d-fbed-4e7e-826f-2eef93641035",
   "metadata": {},
   "outputs": [],
   "source": [
    "resume_list= [resume1,resume2]"
   ]
  },
  {
   "cell_type": "code",
   "execution_count": null,
   "id": "a8c943cd-54f2-40d9-a08d-d9e4c0b5ddda",
   "metadata": {},
   "outputs": [],
   "source": [
    "temp = []\n",
    "for i, resumes in enumerate(resume_list, start=1):\n",
    "    temp.append(f\"Resume{i}: {resumes}\")\n",
    "\n",
    "resume= ',\\n\\n'.join(temp)\n",
    "\n",
    "print(resume)"
   ]
  },
  {
   "cell_type": "code",
   "execution_count": null,
   "id": "192b0f3f-22f6-43dc-a6c1-cc558fc71d65",
   "metadata": {},
   "outputs": [],
   "source": [
    "prompt = f\"\"\"\n",
    "Your task is to generate a short summary of a resume \\\n",
    "provided below. You will have to list down the skills and experience. \n",
    "\n",
    "Summarize the resume below, delimited by triple \n",
    "backticks. \n",
    "\n",
    "Review: ```{resume}```\n",
    "\"\"\"\n",
    "response = get_completion(prompt)\n",
    "print(response)"
   ]
  },
  {
   "cell_type": "code",
   "execution_count": 1,
   "id": "daf99580-1e7a-4299-87e9-5da15d1c4e50",
   "metadata": {},
   "outputs": [],
   "source": [
    "def get_completion_from_messages(messages, model=\"gpt-3.5-turbo\", temperature=0):\n",
    "    response = openai.ChatCompletion.create(\n",
    "        model=model,\n",
    "        messages=messages,\n",
    "        temperature=temperature, # this is the degree of randomness of the model's output\n",
    "    )\n",
    "#     print(str(response.choices[0].message))\n",
    "    return response.choices[0].message[\"content\"]"
   ]
  },
  {
   "cell_type": "code",
   "execution_count": null,
   "id": "2796d3e0-f9dc-476e-9d50-fcd1f6b42129",
   "metadata": {},
   "outputs": [],
   "source": [
    "messages =  [  \n",
    "{'role':'system', 'content':'You are Resume Summarizer bot.'},    \n",
    "{'role':'user', 'content':\"'RAKESH P SHANBHAG\\nDataAnalyst\\n@ rakeshshanbhag1234@gmail.com (cid:129) +917349431706 ( Bengaluru,India (cid:128) @rakesh_shanbhag\\nŁ RakeshShanbhag\\nWORK EXPERIENCE CAREER OBJECTIVE\\nConsulting - SAMA: Analytics and Cognitive “Seekingachallengingpositioninyour\\nDeloitteSharedServicesIndiaLLP reputedcompanywhereIcanlearn\\nx July2022–Present ( Bengaluru newskills,expandmyknowledge,and\\nleveragemylearnings”\\n• Beingapartofenhancementandnewdevelopmentteam,Ihave\\ndevelopedsalesandinventorydashboards/reportswithalive\\nEXTRA CURRICULAR\\nconnectiontoatabularmodelcubethatsourceddatafroman\\nSQLdatabase\\n• WorkedonSSAS(SQLServerAnalysisServices)tabularmodels ˘ MentoratSUSHIKSHA\\nTraineratKshamataCampsheldat\\nusingVisualStudio2019\\nWKC(WorldKonkaniCentre)through\\n• Responsibilitiesincludeddatamodeling,datatransformation, VKSSF\\ncreatingcomplexDAXexpressionstosupportkeyperformance\\nindicators(KPIs)andbusinessmetrics,andestablishingrelation- ˘ VolunteeratYouthForParivarthan\\nandMakkalaJeevodaya\\nshipsbetweendimensionsandfactswithinthetabularmodel\\nWithavisionofCleansocietyandfree\\neducationthroughMentorshippro-\\nINTERNSHIP\\ngramme\\nTrainee\\nSKILLS\\nDeloitteSharedServicesIndiaLLP\\nx Feb2022,5months ( Bengaluru PowerBI AzureAnalysisServices MYSQL\\n• GottrainedinSQL,SSMS,TableauandalsogotcertifiedinPython MicrosoftExcel Python(basic)\\nEDUCATION\\nTrainee\\nHindustanAeronauticsLimited\\nBE in Electronics and Communication\\nx Jan2019,1month ( Bengaluru\\nEngineering\\n• HandsonexperienceandlearningatElectronicsLRUlaband\\nBMSCollegeofEngineering,Bengaluru\\nFinalAssembly,HelicopterMRODivision\\nx Sept2018–Jun2022\\nCERTIFICATIONS CGPA:9.18\\n˘ PCAP-31-03CertifiedAssociateinPythonProgramming PU in Science Stream\\nChristJuniorCollege,Bengaluru\\n˘ MicrosoftPowerBIDesktopforBusinessIntelligenceby\\nUdemy x Jun2016–Apr2018\\nPercentage:97.5\\nLANGUAGES\\nSSLC in State Board\\nVijayaHighSchool,Bengaluru\\nEnglish Hindi Kannada Konkani\\nx Jun2013–Apr2016\\nPercentage:98.4'\"}  ]"
   ]
  },
  {
   "cell_type": "code",
   "execution_count": null,
   "id": "eb89cfce-ede8-40a4-a842-43d08bfc44eb",
   "metadata": {},
   "outputs": [],
   "source": [
    "def collect_messages(_):\n",
    "    prompt = inp.value_input\n",
    "    inp.value = ''\n",
    "    context.append({'role':'user', 'content':f\"{prompt}\"})\n",
    "    response = get_completion_from_messages(context) \n",
    "    context.append({'role':'assistant', 'content':f\"{response}\"})\n",
    "    panels.append(\n",
    "        pn.Row('User:', pn.pane.Markdown(prompt, width=600)))\n",
    "    panels.append(\n",
    "        pn.Row('Assistant:', pn.pane.Markdown(response, width=600, style={'background-color': '#F6F6F6'})))\n",
    " \n",
    "    return pn.Column(*panels)"
   ]
  },
  {
   "cell_type": "code",
   "execution_count": null,
   "id": "e038068b-2a0b-4233-b67c-7426d3ad5057",
   "metadata": {},
   "outputs": [],
   "source": [
    "import panel as pn  # GUI\n",
    "pn.extension()\n",
    "\n",
    "panels = [] # collect display \n",
    "\n",
    "    context = [ {'role':'system', 'content':f\"\"\"\n",
    "You are a resume summarizer. You will have to summarize the resume or need to answer questions based on the given resume.\n",
    "You first greet the recruiter, then ask them if the would like a summary of the resume or if they have any particular requirements, \\\n",
    "If their requirement is found in the resume, you tell them about the experience and projects if any.\n",
    "Below is the resume , delimited by triple \n",
    "backticks. \n",
    "\n",
    "Review: ```{resume}```\n",
    "\n",
    "\n",
    "\"\"\"} ]  # accumulate messages\n",
    "\n",
    "\n",
    "inp = pn.widgets.TextInput(value=\"Hi\", placeholder='Enter text here…')\n",
    "button_conversation = pn.widgets.Button(name=\"Chat!\")\n",
    "\n",
    "interactive_conversation = pn.bind(collect_messages, button_conversation)\n",
    "\n",
    "dashboard = pn.Column(\n",
    "    inp,\n",
    "    pn.Row(button_conversation),\n",
    "    pn.panel(interactive_conversation, loading_indicator=True, height=300),\n",
    ")\n",
    "\n",
    "dashboard"
   ]
  }
 ],
 "metadata": {
  "kernelspec": {
   "display_name": "Python 3 (ipykernel)",
   "language": "python",
   "name": "python3"
  },
  "language_info": {
   "codemirror_mode": {
    "name": "ipython",
    "version": 3
   },
   "file_extension": ".py",
   "mimetype": "text/x-python",
   "name": "python",
   "nbconvert_exporter": "python",
   "pygments_lexer": "ipython3",
   "version": "3.10.9"
  }
 },
 "nbformat": 4,
 "nbformat_minor": 5
}
