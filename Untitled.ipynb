{
 "cells": [
  {
   "cell_type": "code",
   "execution_count": 4,
   "id": "bf8ba08e-7def-4fba-8506-e2f0ca86cc92",
   "metadata": {},
   "outputs": [
    {
     "ename": "SyntaxError",
     "evalue": "invalid syntax (1279505635.py, line 1)",
     "output_type": "error",
     "traceback": [
      "\u001b[1;36m  Cell \u001b[1;32mIn[4], line 1\u001b[1;36m\u001b[0m\n\u001b[1;33m    pip install openai\u001b[0m\n\u001b[1;37m        ^\u001b[0m\n\u001b[1;31mSyntaxError\u001b[0m\u001b[1;31m:\u001b[0m invalid syntax\n"
     ]
    }
   ],
   "source": [
    "pip install openai\n",
    "import os\n",
    "import openai\n"
   ]
  },
  {
   "cell_type": "code",
   "execution_count": 5,
   "id": "a4eaa6f9-3fd6-49eb-a4c8-ce1e04d5f7ad",
   "metadata": {},
   "outputs": [
    {
     "name": "stdout",
     "output_type": "stream",
     "text": [
      "Collecting openai\n",
      "  Downloading openai-1.35.7-py3-none-any.whl (327 kB)\n",
      "     -------------------------------------- 327.5/327.5 kB 2.5 MB/s eta 0:00:00\n",
      "Requirement already satisfied: anyio<5,>=3.5.0 in c:\\users\\gurhegde\\appdata\\local\\programs\\python\\python310\\lib\\site-packages (from openai) (4.4.0)\n",
      "Collecting pydantic<3,>=1.9.0\n",
      "  Downloading pydantic-2.7.4-py3-none-any.whl (409 kB)\n",
      "     -------------------------------------- 409.0/409.0 kB 6.4 MB/s eta 0:00:00\n",
      "Collecting distro<2,>=1.7.0\n",
      "  Downloading distro-1.9.0-py3-none-any.whl (20 kB)\n",
      "Requirement already satisfied: tqdm>4 in c:\\users\\gurhegde\\appdata\\local\\programs\\python\\python310\\lib\\site-packages (from openai) (4.66.2)\n",
      "Requirement already satisfied: httpx<1,>=0.23.0 in c:\\users\\gurhegde\\appdata\\local\\programs\\python\\python310\\lib\\site-packages (from openai) (0.27.0)\n",
      "Requirement already satisfied: typing-extensions<5,>=4.7 in c:\\users\\gurhegde\\appdata\\local\\programs\\python\\python310\\lib\\site-packages (from openai) (4.12.2)\n",
      "Requirement already satisfied: sniffio in c:\\users\\gurhegde\\appdata\\local\\programs\\python\\python310\\lib\\site-packages (from openai) (1.3.1)\n",
      "Requirement already satisfied: idna>=2.8 in c:\\users\\gurhegde\\appdata\\local\\programs\\python\\python310\\lib\\site-packages (from anyio<5,>=3.5.0->openai) (3.7)\n",
      "Requirement already satisfied: exceptiongroup>=1.0.2 in c:\\users\\gurhegde\\appdata\\local\\programs\\python\\python310\\lib\\site-packages (from anyio<5,>=3.5.0->openai) (1.2.1)\n",
      "Requirement already satisfied: httpcore==1.* in c:\\users\\gurhegde\\appdata\\local\\programs\\python\\python310\\lib\\site-packages (from httpx<1,>=0.23.0->openai) (1.0.5)\n",
      "Requirement already satisfied: certifi in c:\\users\\gurhegde\\appdata\\local\\programs\\python\\python310\\lib\\site-packages (from httpx<1,>=0.23.0->openai) (2024.6.2)\n",
      "Requirement already satisfied: h11<0.15,>=0.13 in c:\\users\\gurhegde\\appdata\\local\\programs\\python\\python310\\lib\\site-packages (from httpcore==1.*->httpx<1,>=0.23.0->openai) (0.14.0)\n",
      "Collecting annotated-types>=0.4.0\n",
      "  Downloading annotated_types-0.7.0-py3-none-any.whl (13 kB)\n",
      "Collecting pydantic-core==2.18.4\n",
      "  Downloading pydantic_core-2.18.4-cp310-none-win_amd64.whl (1.9 MB)\n",
      "     ---------------------------------------- 1.9/1.9 MB 10.1 MB/s eta 0:00:00\n",
      "Requirement already satisfied: colorama in c:\\users\\gurhegde\\appdata\\local\\programs\\python\\python310\\lib\\site-packages (from tqdm>4->openai) (0.4.6)\n",
      "Installing collected packages: pydantic-core, distro, annotated-types, pydantic, openai\n",
      "Successfully installed annotated-types-0.7.0 distro-1.9.0 openai-1.35.7 pydantic-2.7.4 pydantic-core-2.18.4\n"
     ]
    },
    {
     "name": "stderr",
     "output_type": "stream",
     "text": [
      "\n",
      "[notice] A new release of pip available: 22.3.1 -> 24.1.1\n",
      "[notice] To update, run: python.exe -m pip install --upgrade pip\n"
     ]
    }
   ],
   "source": [
    "!pip install openai"
   ]
  },
  {
   "cell_type": "code",
   "execution_count": 7,
   "id": "c36a9d6f-23a8-4e79-bb17-afb71aca7fdb",
   "metadata": {},
   "outputs": [],
   "source": [
    "import os\n",
    "import openai"
   ]
  },
  {
   "cell_type": "code",
   "execution_count": 9,
   "id": "849dc415-1da7-4c12-8464-ead5beb31ac9",
   "metadata": {},
   "outputs": [
    {
     "name": "stdout",
     "output_type": "stream",
     "text": [
      "Collecting pdfplumberNote: you may need to restart the kernel to use updated packages.\n"
     ]
    },
    {
     "name": "stderr",
     "output_type": "stream",
     "text": [
      "\n",
      "[notice] A new release of pip available: 22.3.1 -> 24.1.1\n",
      "[notice] To update, run: python.exe -m pip install --upgrade pip\n"
     ]
    },
    {
     "name": "stdout",
     "output_type": "stream",
     "text": [
      "\n",
      "  Downloading pdfplumber-0.11.1-py3-none-any.whl (57 kB)\n",
      "     ---------------------------------------- 57.9/57.9 kB 1.0 MB/s eta 0:00:00\n",
      "Collecting pdfminer.six==20231228\n",
      "  Downloading pdfminer.six-20231228-py3-none-any.whl (5.6 MB)\n",
      "     ---------------------------------------- 5.6/5.6 MB 3.0 MB/s eta 0:00:00\n",
      "Collecting pypdfium2>=4.18.0\n",
      "  Downloading pypdfium2-4.30.0-py3-none-win_amd64.whl (2.9 MB)\n",
      "     ---------------------------------------- 2.9/2.9 MB 5.3 MB/s eta 0:00:00\n",
      "Collecting Pillow>=9.1\n",
      "  Downloading pillow-10.4.0-cp310-cp310-win_amd64.whl (2.6 MB)\n",
      "     ---------------------------------------- 2.6/2.6 MB 5.1 MB/s eta 0:00:00\n",
      "Requirement already satisfied: charset-normalizer>=2.0.0 in c:\\users\\gurhegde\\appdata\\local\\programs\\python\\python310\\lib\\site-packages (from pdfminer.six==20231228->pdfplumber) (3.3.2)\n",
      "Collecting cryptography>=36.0.0\n",
      "  Downloading cryptography-42.0.8-cp39-abi3-win_amd64.whl (2.9 MB)\n",
      "     ---------------------------------------- 2.9/2.9 MB 6.6 MB/s eta 0:00:00\n",
      "Requirement already satisfied: cffi>=1.12 in c:\\users\\gurhegde\\appdata\\local\\programs\\python\\python310\\lib\\site-packages (from cryptography>=36.0.0->pdfminer.six==20231228->pdfplumber) (1.16.0)\n",
      "Requirement already satisfied: pycparser in c:\\users\\gurhegde\\appdata\\local\\programs\\python\\python310\\lib\\site-packages (from cffi>=1.12->cryptography>=36.0.0->pdfminer.six==20231228->pdfplumber) (2.22)\n",
      "Installing collected packages: pypdfium2, Pillow, cryptography, pdfminer.six, pdfplumber\n",
      "Successfully installed Pillow-10.4.0 cryptography-42.0.8 pdfminer.six-20231228 pdfplumber-0.11.1 pypdfium2-4.30.0\n"
     ]
    }
   ],
   "source": [
    "pip install pdfplumber"
   ]
  },
  {
   "cell_type": "code",
   "execution_count": 2,
   "id": "4497d636-7622-4f34-9b67-b2210994df75",
   "metadata": {},
   "outputs": [],
   "source": [
    "import pdfplumber\n",
    "\n",
    "def parse_pdf(file_path):\n",
    "    with pdfplumber.open(file_path) as pdf:\n",
    "        text = \"\"\n",
    "        for page in pdf.pages:\n",
    "            text += page.extract_text()\n",
    "    return text\n"
   ]
  },
  {
   "cell_type": "code",
   "execution_count": 1,
   "id": "e7754f2a-1683-4c4d-b3f9-804f700b7bd5",
   "metadata": {},
   "outputs": [
    {
     "ename": "NameError",
     "evalue": "name 'parse_pdf' is not defined",
     "output_type": "error",
     "traceback": [
      "\u001b[1;31m---------------------------------------------------------------------------\u001b[0m",
      "\u001b[1;31mNameError\u001b[0m                                 Traceback (most recent call last)",
      "Cell \u001b[1;32mIn[1], line 1\u001b[0m\n\u001b[1;32m----> 1\u001b[0m \u001b[43mparse_pdf\u001b[49m(\u001b[38;5;124mr\u001b[39m\u001b[38;5;124m\"\u001b[39m\u001b[38;5;124mC:\u001b[39m\u001b[38;5;124m\\\u001b[39m\u001b[38;5;124mUsers\u001b[39m\u001b[38;5;124m\\\u001b[39m\u001b[38;5;124mgurhegde\u001b[39m\u001b[38;5;124m\\\u001b[39m\u001b[38;5;124mOneDrive - Deloitte (O365D)\u001b[39m\u001b[38;5;124m\\\u001b[39m\u001b[38;5;124mCAI Playground\u001b[39m\u001b[38;5;124m\\\u001b[39m\u001b[38;5;124mRakesh Resume Jan 10th.pdf\u001b[39m\u001b[38;5;124m\"\u001b[39m)\n",
      "\u001b[1;31mNameError\u001b[0m: name 'parse_pdf' is not defined"
     ]
    }
   ],
   "source": [
    "parse_pdf(r\"C:\\Users\\gurhegde\\OneDrive - Deloitte (O365D)\\CAI Playground\\Rakesh Resume Jan 10th.pdf\")"
   ]
  },
  {
   "cell_type": "code",
   "execution_count": 3,
   "id": "9df9be24-a1c3-40ee-a4be-41b92d81f2ad",
   "metadata": {},
   "outputs": [
    {
     "data": {
      "text/plain": [
       "\"Experience Summary\\nGuruprasad Hegde is an Analyst at Deloitte with nearly 2 years of experience in data analytics, specializing in the Telecom, Media, and\\nTechnology sectors. He has strong communication and interpersonal skills, is highly organized, and demonstrates a dedicated work\\nethic. Guruprasad excels in problem-solving and confidently handles ambiguity, consistently delivering effective solutions.\\nRelevant Work Experience\\nGuruprasad Hegde\\nAnalyst \\uf0a7 Worked with a large telecom team as part of the Group Revenue Assurance team, where I was responsible for identifying and\\nConsulting – Deloitte India\\nresolving revenue discrepancies between multiple business entities.\\n\\uf0a7 Conducted comprehensive billing validation and prepared detailed reports to ensure accurate revenue recognition.\\nEmail Id-gurhegde@deloitte.com\\n\\uf0a7 Designed and implemented new validation methods and scripts to accommodate evolving requirements and processes, significantly\\nMobile-+91 8971229085\\nimproving process accuracy and efficiency.\\nProfile\\n\\uf0a7 Extensively leveraged Oracle SQL across multiple databases to validate and identify revenue discrepancies between various\\nEducation: business entities, ensuring data integrity throughout the process.\\n\\uf0a7 Bachelor of Technology (B.Tech) in\\n\\uf0a7 Introduced Python to automate repetitive and monotonous tasks, significantly boosting productivity and efficiency.\\nElectronics & Communication –PES\\nUniversity \\uf0a7 Played a key role in the migration from one billing system to another, ensuring a smooth transition and continuity.\\n\\uf0a7 Collaborated with cross-functional teams to drive process improvements while also performing various ad-hoc activities at the\\nTools & Technology:\\n\\uf0a7 Python, Oracle SQL,Tableau, Excel, client's request, often under strict deadlines, to provide crucial insights.\\nFigma, Kore-Ai, Agile Foundations, UI-\\n\\uf0a7 As part of an internal project with a large telecom company, I collaborated on a rapid digital maturity assessment model. This\\nUX, Power BI, Power Point.\\ninitiative aimed to help the company's Internal Audit function realize its digital vision. I was involved in designing a comprehensive\\nCertifications:\\ndigital maturity toolkit for self-assessment, which evaluated the current state, ongoing initiatives, and future aspirations. This\\n\\uf0a7 Data Analysis with Pandas by Udemy.\\n\\uf0a7 15 days of Power BI -Complete model provided insights into existing capabilities and industry-leading practices, identified current state gaps, and prioritized\\nMicrosoft Power BI Bootcamp.\\ndigitization opportunities. The resulting recommendations helped the company develop a future roadmap for enhancing their digital\\n\\uf0a7 Deep Learning-IIT Roopar-NPTEL\\nCertification audit functions.\\n\\uf0a7 Agile Foundations -LinkedIn Learning\\n© 2020 Deloitte Touche Tohmatsu India LLP 1\""
      ]
     },
     "execution_count": 3,
     "metadata": {},
     "output_type": "execute_result"
    }
   ],
   "source": [
    "parse_pdf(r\"C:\\Users\\gurhegde\\OneDrive - Deloitte (O365D)\\CAI Playground\\Guru Resume PDF.pdf\")"
   ]
  },
  {
   "cell_type": "code",
   "execution_count": null,
   "id": "641fbfdf-fdaf-45a9-a254-51bea1042c33",
   "metadata": {},
   "outputs": [],
   "source": []
  }
 ],
 "metadata": {
  "kernelspec": {
   "display_name": "Python 3 (ipykernel)",
   "language": "python",
   "name": "python3"
  },
  "language_info": {
   "codemirror_mode": {
    "name": "ipython",
    "version": 3
   },
   "file_extension": ".py",
   "mimetype": "text/x-python",
   "name": "python",
   "nbconvert_exporter": "python",
   "pygments_lexer": "ipython3",
   "version": "3.10.9"
  }
 },
 "nbformat": 4,
 "nbformat_minor": 5
}
